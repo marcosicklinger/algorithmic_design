{
 "metadata": {
  "language_info": {
   "codemirror_mode": {
    "name": "ipython",
    "version": 3
   },
   "file_extension": ".py",
   "mimetype": "text/x-python",
   "name": "python",
   "nbconvert_exporter": "python",
   "pygments_lexer": "ipython3",
   "version": "3.8.5"
  },
  "orig_nbformat": 2,
  "kernelspec": {
   "name": "python3",
   "display_name": "Python 3",
   "language": "python"
  }
 },
 "nbformat": 4,
 "nbformat_minor": 2,
 "cells": [
  {
   "cell_type": "code",
   "execution_count": 1,
   "metadata": {},
   "outputs": [],
   "source": [
    "from graph import *\n",
    "from heap import *\n",
    "from dijkstra import *\n",
    "from random import random, randint"
   ]
  },
  {
   "cell_type": "code",
   "execution_count": 2,
   "metadata": {},
   "outputs": [
    {
     "output_type": "stream",
     "name": "stdout",
     "text": [
      "NODES:\t--(IMPORTANCE, VALUE)--PREDECESSOR--ADJACENCY LIST\n\n0:\t--(4, 9)--None--[[None, 1, 0.6343078082572987], [None, 2, 0.536285250662658], [None, 3, 0.19262091739812615], [None, 4, 0.20808781716938418]]\n\n1:\t--(1, 88)--None--[[None, 3, 0.8509737056162369], [None, 4, 0.9035915067116732]]\n\n2:\t--(0, 48)--None--[[None, 4, 0.18923580156221298]]\n\n3:\t--(3, 43)--None--[[None, 1, 0.6050897593526094], [None, 2, 0.40810804442499904], [None, 3, 0.025003874629938916], [None, 4, 0.9077249544773933]]\n\n4:\t--(2, 50)--None--[[None, 1, 0.34988738977268175], [None, 2, 0.6289597136678561], [None, 3, 0.5388975939835401], [None, 4, 0.8082625121318019]]\n\n\n"
     ]
    }
   ],
   "source": [
    "# create graph\n",
    "g = {}\n",
    "# assign importances\n",
    "importance_array = list(np.random.permutation(5))\n",
    "for i in range(5):\n",
    "    # assign to nodes their values\n",
    "    g[i] = Node(value=randint(0,100), importance=importance_array[i])\n",
    "\n",
    "# create adjacency lists\n",
    "d = {}\n",
    "for i in range(5):\n",
    "    d[i] = []\n",
    "    # assign adjacent nodes and weights of corresponding edges\n",
    "    for j in range(randint(0,4),5):\n",
    "        d[i].append([j, random()])\n",
    "\n",
    "# create dictionary\n",
    "graph = WeightedGraph(g, d)\n",
    "\n",
    "# printing graph\n",
    "print(graph)"
   ]
  },
  {
   "cell_type": "code",
   "execution_count": 3,
   "metadata": {},
   "outputs": [
    {
     "output_type": "stream",
     "name": "stdout",
     "text": [
      "NODES:\t--(IMPORTANCE, VALUE)--PREDECESSOR--ADJACENCY LIST\n\n0:\t--(4, 9)--None--[[None, 1, 0.6343078082572987], [None, 2, 0.536285250662658], [None, 3, 0.19262091739812615], [None, 4, 0.20808781716938418]]\n\n1:\t--(1, 88)--(2, 50)--[[None, 3, 0.8509737056162369], [None, 4, 0.9035915067116732]]\n\n2:\t--(0, 48)--None--[[None, 4, 0.18923580156221298]]\n\n3:\t--(3, 43)--(2, 50)--[[None, 1, 0.6050897593526094], [None, 2, 0.40810804442499904], [None, 3, 0.025003874629938916], [None, 4, 0.9077249544773933]]\n\n4:\t--(2, 50)--(0, 48)--[[None, 1, 0.34988738977268175], [None, 2, 0.6289597136678561], [None, 3, 0.5388975939835401], [None, 4, 0.8082625121318019]]\n\n\n"
     ]
    }
   ],
   "source": [
    "# applying dijkstra algorithm to graph\n",
    "dijkstra(graph, graph.Keys[2])\n",
    "\n",
    "# printing result\n",
    "print(graph)"
   ]
  },
  {
   "cell_type": "code",
   "execution_count": 4,
   "metadata": {},
   "outputs": [
    {
     "output_type": "stream",
     "name": "stdout",
     "text": [
      "key:  0  importance: 4\nshortcuts:  [[1, 3, 1.4852815138735356], [1, 4, 1.537899314968972], [2, 4, 0.725521052224871], [4, 3, 0.7469854111529243]] \n\nkey:  1  importance: 1\nshortcuts:  None \n\nkey:  2  importance: 0\nshortcuts:  None \n\nkey:  3  importance: 3\nshortcuts:  [[1, 4, 1.5086812660642828], [2, 4, 0.597343845987212]] \n\nkey:  4  importance: 2\nshortcuts:  [[1, 3, 1.2008610953889187]] \n\n"
     ]
    }
   ],
   "source": [
    "# build shortcuts in the graph\n",
    "build_shortcuts(graph)\n",
    "\n",
    "# printing shortcuts\n",
    "for key in graph.Keys:\n",
    "    print('key: ', key, ' importance:', graph.Dictionary[key].importance)\n",
    "    print('shortcuts: ', graph.Dictionary[key].shortcuts, '\\n')"
   ]
  },
  {
   "cell_type": "code",
   "execution_count": 5,
   "metadata": {},
   "outputs": [
    {
     "output_type": "stream",
     "name": "stdout",
     "text": [
      "NODES:\t--(IMPORTANCE, VALUE)--PREDECESSOR--ADJACENCY LIST\n\n0:\t--(4, 9)--None--[[None, 1, 0.6343078082572987], [None, 2, 0.536285250662658], [None, 3, 0.19262091739812615], [None, 4, 0.20808781716938418], [1, 3, 1.4852815138735356], [1, 4, 1.537899314968972], [2, 4, 0.725521052224871], [4, 3, 0.7469854111529243]]\n\n1:\t--(1, 88)--(2, 50)--[[None, 3, 0.8509737056162369], [None, 4, 0.9035915067116732]]\n\n2:\t--(0, 48)--None--[[None, 4, 0.18923580156221298]]\n\n3:\t--(3, 43)--(2, 50)--[[None, 1, 0.6050897593526094], [None, 2, 0.40810804442499904], [None, 3, 0.025003874629938916], [None, 4, 0.9077249544773933], [1, 4, 1.5086812660642828], [2, 4, 0.597343845987212]]\n\n4:\t--(2, 50)--(0, 48)--[[None, 1, 0.34988738977268175], [None, 2, 0.6289597136678561], [None, 3, 0.5388975939835401], [None, 4, 0.8082625121318019], [1, 3, 1.2008610953889187]]\n\n\n"
     ]
    }
   ],
   "source": [
    "# update graph with the shortcuts\n",
    "update_graph(graph)\n",
    "\n",
    "# print updated graph\n",
    "print(graph)"
   ]
  },
  {
   "cell_type": "code",
   "execution_count": 6,
   "metadata": {},
   "outputs": [
    {
     "output_type": "stream",
     "name": "stdout",
     "text": [
      "NODES:\t--(IMPORTANCE, VALUE)--PREDECESSOR--ADJACENCY LIST\n\n0:\t--(4, 84)--None--[[None, 2, 0.9204866924960657], [None, 3, 0.8686161527364201], [None, 4, 0.16237609278227538], [None, 5, 0.7951340416574191], [None, 6, 0.7973825838174023]]\n\n1:\t--(2, 73)--None--[[None, 3, 0.197950720212148], [None, 4, 0.33620272923977723], [None, 5, 0.015639391650626444], [None, 6, 0.7088444579215604]]\n\n2:\t--(0, 58)--None--[[None, 2, 0.8667609384148205], [None, 3, 0.7588772004868357], [None, 4, 0.36307253793884453], [None, 5, 0.515432834237767], [None, 6, 0.08002197854207471]]\n\n3:\t--(1, 86)--None--[[None, 2, 0.678875433969855], [None, 3, 0.7935954177006513], [None, 4, 0.6679232415856515], [None, 5, 0.549818954268201], [None, 6, 0.17398973351336522]]\n\n4:\t--(5, 51)--None--[[None, 4, 0.604197077418739], [None, 5, 0.8345301062406553], [None, 6, 0.6657705258726833]]\n\n5:\t--(6, 92)--None--[[None, 2, 0.5874016957593889], [None, 3, 0.2685418050560132], [None, 4, 0.39833862410785315], [None, 5, 0.8940249432154668], [None, 6, 0.9540938459080693]]\n\n6:\t--(3, 36)--None--[[None, 4, 0.03717196754770391], [None, 5, 0.35876350074583074], [None, 6, 0.9463475458407431]]\n\n\n"
     ]
    }
   ],
   "source": [
    "# create graph\n",
    "g = {}\n",
    "# assign importances\n",
    "importance_array = list(np.random.permutation(7))\n",
    "for i in range(7):\n",
    "    # assign to nodes their values\n",
    "    g[i] = Node(value=randint(0,100), importance=importance_array[i])\n",
    "\n",
    "# create adjacency lists\n",
    "d = {}\n",
    "for i in range(7):\n",
    "    d[i] = []\n",
    "    # assign adjacent nodes and weights of corresponding edges\n",
    "    for j in range(randint(2,5),7):\n",
    "        d[i].append([j, random()])\n",
    "\n",
    "# create dictionary\n",
    "graph = WeightedGraph(g, d)\n",
    "\n",
    "# printing graph\n",
    "print(graph)"
   ]
  },
  {
   "cell_type": "code",
   "execution_count": 7,
   "metadata": {},
   "outputs": [
    {
     "output_type": "execute_result",
     "data": {
      "text/plain": [
       "0.33620272923977723"
      ]
     },
     "metadata": {},
     "execution_count": 7
    }
   ],
   "source": [
    "# applying dijkstra algorithm to graph\n",
    "bi_dijkstra(graph, 1, 4)"
   ]
  },
  {
   "cell_type": "code",
   "execution_count": 8,
   "metadata": {},
   "outputs": [
    {
     "output_type": "stream",
     "name": "stdout",
     "text": [
      "NODES:\t--(IMPORTANCE, VALUE)--PREDECESSOR--ADJACENCY LIST\n\n0:\t--(4, 84)--None--[[None, 2, 0.9204866924960657], [None, 3, 0.8686161527364201], [None, 4, 0.16237609278227538], [None, 5, 0.7951340416574191], [None, 6, 0.7973825838174023], [2, 3, 1.6793638929829013], [2, 4, 1.2835592304349102], [2, 5, 1.4359195267338327], [2, 6, 1.0005086710381406], [3, 4, 1.5365393943220718], [3, 5, 1.4184351070046213], [3, 6, 1.0426058862497853], [6, 4, 0.8345545513651063], [6, 5, 1.156146084563233]]\n\n1:\t--(2, 73)--None--[[None, 3, 0.197950720212148], [None, 4, 0.33620272923977723], [None, 5, 0.015639391650626444], [None, 6, 0.7088444579215604], [3, 4, 0.8658739617977995], [3, 5, 0.747769674480349], [3, 6, 0.3719404537255132]]\n\n2:\t--(0, 58)--None--[[None, 2, 0.8667609384148205], [None, 3, 0.7588772004868357], [None, 4, 0.36307253793884453], [None, 5, 0.515432834237767], [None, 6, 0.08002197854207471]]\n\n3:\t--(1, 86)--(2, 73)--[[None, 2, 0.678875433969855], [None, 3, 0.7935954177006513], [None, 4, 0.6679232415856515], [None, 5, 0.549818954268201], [None, 6, 0.17398973351336522], [2, 4, 1.0419479719086995], [2, 5, 1.1943082682076218], [2, 6, 0.7588974125119297]]\n\n4:\t--(5, 51)--(2, 73)--[[None, 4, 0.604197077418739], [None, 5, 0.8345301062406553], [None, 6, 0.6657705258726833], [6, 5, 1.0245340266185141]]\n\n5:\t--(6, 92)--(5, 51)--[[None, 2, 0.5874016957593889], [None, 3, 0.2685418050560132], [None, 4, 0.39833862410785315], [None, 5, 0.8940249432154668], [None, 6, 0.9540938459080693], [2, 3, 1.3462788962462247], [2, 4, 0.9504742336982335], [2, 6, 0.6674236743014637], [3, 4, 0.9364650466416647], [3, 6, 0.44253153856937844], [6, 4, 0.9912658134557732]]\n\n6:\t--(3, 36)--(1, 86)--[[None, 4, 0.03717196754770391], [None, 5, 0.35876350074583074], [None, 6, 0.9463475458407431]]\n\n\n"
     ]
    }
   ],
   "source": [
    "print(graph)"
   ]
  },
  {
   "cell_type": "code",
   "execution_count": null,
   "metadata": {},
   "outputs": [],
   "source": []
  }
 ]
}