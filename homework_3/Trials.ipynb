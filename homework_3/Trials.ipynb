{
 "metadata": {
  "language_info": {
   "codemirror_mode": {
    "name": "ipython",
    "version": 3
   },
   "file_extension": ".py",
   "mimetype": "text/x-python",
   "name": "python",
   "nbconvert_exporter": "python",
   "pygments_lexer": "ipython3",
   "version": "3.8.5"
  },
  "orig_nbformat": 2,
  "kernelspec": {
   "name": "python3",
   "display_name": "Python 3",
   "language": "python"
  }
 },
 "nbformat": 4,
 "nbformat_minor": 2,
 "cells": [
  {
   "source": [
    "# Homework Batch 3: Routing Algorithms\n",
    "### Marco Sicklinger, May 2021"
   ],
   "cell_type": "markdown",
   "metadata": {}
  },
  {
   "source": [
    "## Modules"
   ],
   "cell_type": "markdown",
   "metadata": {}
  },
  {
   "source": [
    "In the below modules, except for random obviously, one can find the implementation of the algorithm required."
   ],
   "cell_type": "markdown",
   "metadata": {}
  },
  {
   "cell_type": "code",
   "execution_count": 3,
   "metadata": {},
   "outputs": [],
   "source": [
    "from graph import *\n",
    "from heap import *\n",
    "from dijkstra import *\n",
    "from random import random, randint"
   ]
  },
  {
   "source": [
    "## Binheap version of Dijkstra Algorithm"
   ],
   "cell_type": "markdown",
   "metadata": {}
  },
  {
   "source": [
    "First, a graph must be created, as an object of class `WeightGraph`: it is done by creating a dictionary containing the vertices as values (vertices ar of class `Node`), while the choice of the keys does not have any influence on the successive steps. However, they must match the keys of the other dictionary to give as argument to the `WeightedGraph` class, the adjacency list. This is a dictionary, whose keys must match the keys of the previous dictionary, so one can assign to every node the corresponding correct adjacency list. The values of this latter dictionary are lists of lists, that is lists containing pairs of a key (representing the vertice in the adjacency list) and a weight (representing the weight of the edge). These pairs are not stored as tuples since the latter ones are immutable objects, so it has been chosen to use mutable objects as lists in case the user needs to modify one of the elements.  \n",
    "When the `WeightedGraph` object is initialized the adjacency lists given by the user is assigned to each vertice as a `Node` class attribute `adj_list`, adding to the front of each pair of key and weight another element, by default `None`, which is going to represent the ignored vertice in a shortcut, if any exists.  \n",
    "There is no need or necessity to initialize the vertices' attribute `predecessor`, `adj_list`, `ancestors`, `heap_index` and `shortcuts` since they are computed on the basis of what the user passes as arguments to `WeightedGraph`. The only attribute that are initializable by passing arguments to `Node` are `value`, `distance` and `importance`."
   ],
   "cell_type": "markdown",
   "metadata": {}
  },
  {
   "source": [
    "In this first example below, where the binheap version of the *Dijkstra Algorithm* has been tested, importances and values are given randomly, for the sake of simplicity."
   ],
   "cell_type": "markdown",
   "metadata": {}
  },
  {
   "cell_type": "code",
   "execution_count": 2,
   "metadata": {},
   "outputs": [
    {
     "output_type": "stream",
     "name": "stdout",
     "text": [
      "NODES:\t--(IMPORTANCE, VALUE)--PREDECESSOR--ADJACENCY LIST\n\n0:\t--(1, 82)--None--[[None, 1, 0.568870072443265], [None, 2, 0.7735226400598464], [None, 3, 0.6168073394523558], [None, 4, 0.4796533825528686]]\n\n1:\t--(0, 14)--None--[[None, 1, 0.12016150879131526], [None, 2, 0.6290465665439365], [None, 3, 0.21672288155669983], [None, 4, 0.483257507403391]]\n\n2:\t--(4, 65)--None--[[None, 1, 0.4272417531082997], [None, 2, 0.17018645122381026], [None, 3, 0.48995129304624674], [None, 4, 0.9912628675189747]]\n\n3:\t--(3, 8)--None--[[None, 3, 0.5806070545147826], [None, 4, 0.04792829814609956]]\n\n4:\t--(2, 71)--None--[[None, 2, 0.9491593479251088], [None, 3, 0.2192049784377733], [None, 4, 0.3850673531306721]]\n\n\n"
     ]
    }
   ],
   "source": [
    "# create graph\n",
    "g = {}\n",
    "# assign importances\n",
    "importance_array = list(np.random.permutation(5))\n",
    "for i in range(5):\n",
    "    # assign to nodes their values\n",
    "    g[i] = Node(value=randint(0,100), importance=importance_array[i])\n",
    "\n",
    "# create adjacency lists\n",
    "d = {}\n",
    "for i in range(5):\n",
    "    d[i] = []\n",
    "    # assign adjacent nodes and weights of corresponding edges\n",
    "    for j in range(randint(0,4),5):\n",
    "        d[i].append([j, random()])\n",
    "\n",
    "# create dictionary\n",
    "graph = WeightedGraph(g, d)\n",
    "\n",
    "# printing graph\n",
    "print(graph)"
   ]
  },
  {
   "cell_type": "code",
   "execution_count": 3,
   "metadata": {},
   "outputs": [
    {
     "output_type": "stream",
     "name": "stdout",
     "text": [
      "NODES:\t--(IMPORTANCE, VALUE)--PREDECESSOR--ADJACENCY LIST\n\n0:\t--(1, 82)--None--[[None, 1, 0.568870072443265], [None, 2, 0.7735226400598464], [None, 3, 0.6168073394523558], [None, 4, 0.4796533825528686]]\n\n1:\t--(0, 14)--(4, 65)--[[None, 1, 0.12016150879131526], [None, 2, 0.6290465665439365], [None, 3, 0.21672288155669983], [None, 4, 0.483257507403391]]\n\n2:\t--(4, 65)--None--[[None, 1, 0.4272417531082997], [None, 2, 0.17018645122381026], [None, 3, 0.48995129304624674], [None, 4, 0.9912628675189747]]\n\n3:\t--(3, 8)--(4, 65)--[[None, 3, 0.5806070545147826], [None, 4, 0.04792829814609956]]\n\n4:\t--(2, 71)--(3, 8)--[[None, 2, 0.9491593479251088], [None, 3, 0.2192049784377733], [None, 4, 0.3850673531306721]]\n\n\n"
     ]
    }
   ],
   "source": [
    "# applying dijkstra algorithm to graph\n",
    "dijkstra(graph, graph.Keys[2])\n",
    "\n",
    "# printing result\n",
    "print(graph)"
   ]
  },
  {
   "source": [
    "## Shortcuts"
   ],
   "cell_type": "markdown",
   "metadata": {}
  },
  {
   "source": [
    "To build shortcuts in a graph, one must call the function `build_shortcuts`, passing the graph as argument. The importance member of each vertice must obviously be initialized, that is must be different from `None` if one wants the function to work."
   ],
   "cell_type": "markdown",
   "metadata": {}
  },
  {
   "cell_type": "code",
   "execution_count": 21,
   "metadata": {},
   "outputs": [
    {
     "output_type": "stream",
     "name": "stdout",
     "text": [
      "key:  0  importance: 2\nshortcuts:  None \n\nkey:  1  importance: 1\nshortcuts:  [[2, 4, 0.5846443892778654]] \n\nkey:  2  importance: 0\nshortcuts:  None \n\nkey:  3  importance: 4\nshortcuts:  [[1, 0, 0.8298468060561525], [1, 4, 0.8972480243884179], [2, 4, 0.4144215199762413]] \n\nkey:  4  importance: 3\nshortcuts:  [[1, 0, 0.8585755679776759], [1, 3, 0.7143774549532647]] \n\n"
     ]
    }
   ],
   "source": [
    "# build shortcuts in the graph\n",
    "build_shortcuts(graph)\n",
    "\n",
    "# printing shortcuts\n",
    "for key in graph.Keys:\n",
    "    print('key: ', key, ' importance:', graph.Dictionary[key].importance)\n",
    "    print('shortcuts: ', graph.Dictionary[key].shortcuts, '\\n')"
   ]
  },
  {
   "cell_type": "code",
   "execution_count": 22,
   "metadata": {},
   "outputs": [
    {
     "output_type": "stream",
     "name": "stdout",
     "text": [
      "NODES:\t--(IMPORTANCE, VALUE)--PREDECESSOR--ADJACENCY LIST\n\n0:\t--(2, 77)--(1, 56)--[[None, 3, 0.7021730346407349], [None, 4, 0.11982777208734574]]\n\n1:\t--(1, 56)--(3, 3)--[[None, 0, 0.7580531980909967], [None, 1, 0.7892585677293726], [None, 2, 0.4158269042989421], [None, 3, 0.6138550850665855], [None, 4, 0.8254544164232621], [2, 4, 0.5846443892778654]]\n\n2:\t--(0, 58)--None--[[None, 4, 0.16881748497892335]]\n\n3:\t--(4, 35)--(1, 56)--[[None, 1, 0.07179360796515577], [None, 2, 0.24560403499731798], [None, 3, 0.7935265922773377], [None, 4, 0.3858396769210919], [1, 0, 0.8298468060561525], [1, 4, 0.8972480243884179], [2, 4, 0.4144215199762413]]\n\n4:\t--(3, 3)--(0, 58)--[[None, 1, 0.10052236988667917], [None, 2, 0.9491793558832782], [None, 3, 0.7347602962354647], [None, 4, 0.9542842920471111], [1, 0, 0.8585755679776759], [1, 3, 0.7143774549532647]]\n\n\n"
     ]
    }
   ],
   "source": [
    "# update graph with the shortcuts\n",
    "update_graph(graph)\n",
    "\n",
    "# print updated graph\n",
    "print(graph)"
   ]
  },
  {
   "source": [
    "## Bidirectional version of Dijkstra Algorithm"
   ],
   "cell_type": "markdown",
   "metadata": {}
  },
  {
   "source": [
    "In the first test of this section, importance values are randomly initialized, for the sake of simplicity."
   ],
   "cell_type": "markdown",
   "metadata": {}
  },
  {
   "cell_type": "code",
   "execution_count": 115,
   "metadata": {},
   "outputs": [
    {
     "output_type": "stream",
     "name": "stdout",
     "text": [
      "NODES:\t--(IMPORTANCE, VALUE)--PREDECESSOR--ADJACENCY LIST\n\n0:\t--(4, 45)--None--[[None, 3, 0.8985185663997043], [None, 4, 0.8962675205475923], [None, 5, 0.17908079400729027], [None, 6, 0.2689705337154972]]\n\n1:\t--(3, 39)--None--[[None, 2, 0.08071159565787611], [None, 3, 0.9885635368900767], [None, 4, 0.9391247096430893], [None, 5, 0.8977356420364642], [None, 6, 0.5814252751177815]]\n\n2:\t--(1, 38)--None--[[None, 5, 0.8261099230833898], [None, 6, 0.04918335654844752]]\n\n3:\t--(2, 64)--None--[[None, 2, 0.9204278538298392], [None, 3, 0.7633025548555608], [None, 4, 0.1606932610515559], [None, 5, 0.2885407887277648], [None, 6, 0.04158934308867346]]\n\n4:\t--(5, 59)--None--[[None, 3, 0.6742100051986097], [None, 4, 0.7616212752790169], [None, 5, 0.2263951840063534], [None, 6, 0.5998336886391248]]\n\n5:\t--(0, 79)--None--[[None, 4, 0.5963168487590025], [None, 5, 0.2156162940364963], [None, 6, 0.45320353741624864]]\n\n6:\t--(6, 48)--None--[[None, 2, 0.5958135041753848], [None, 3, 0.6057933914867861], [None, 4, 0.9783867310345157], [None, 5, 0.5601594021236834], [None, 6, 0.3535187689295153]]\n\n\n"
     ]
    }
   ],
   "source": [
    "# create graph\n",
    "g = {}\n",
    "# assign importances\n",
    "importance_array = list(np.random.permutation(7))\n",
    "for i in range(7):\n",
    "    # assign to nodes their values\n",
    "    g[i] = Node(value=randint(0,100), importance=importance_array[i])\n",
    "\n",
    "# create adjacency lists\n",
    "d = {}\n",
    "for i in range(7):\n",
    "    d[i] = []\n",
    "    # assign adjacent nodes and weights of corresponding edges\n",
    "    for j in range(randint(2,5),7):\n",
    "        d[i].append([j, random()])\n",
    "\n",
    "# create dictionary\n",
    "graph = WeightedGraph(g, d)\n",
    "\n",
    "# printing graph\n",
    "print(graph)"
   ]
  },
  {
   "cell_type": "code",
   "execution_count": 117,
   "metadata": {},
   "outputs": [
    {
     "output_type": "stream",
     "name": "stdout",
     "text": [
      "([(3, 39), (1, 38), (6, 48), (2, 64), (5, 59)], 0.8963816047446657)\n"
     ]
    }
   ],
   "source": [
    "# apply dijkstra algorithm to graph\n",
    "result = bi_dijkstra(graph, 1, 4)\n",
    "print(result)"
   ]
  },
  {
   "cell_type": "code",
   "execution_count": 118,
   "metadata": {},
   "outputs": [],
   "source": [
    "# update predecessors\n",
    "update_predecessors(graph, result[0])"
   ]
  },
  {
   "cell_type": "code",
   "execution_count": 119,
   "metadata": {},
   "outputs": [
    {
     "output_type": "stream",
     "name": "stdout",
     "text": [
      "NODES:\t--(IMPORTANCE, VALUE)--PREDECESSOR--ADJACENCY LIST\n\n0:\t--(4, 45)--None--[[None, 3, 0.8985185663997043], [None, 4, 0.8962675205475923], [None, 5, 0.17908079400729027], [None, 6, 0.2689705337154972], [3, 4, 1.0592118274512603], [3, 6, 0.9401079094883777], [5, 4, 0.7753976427662927], [5, 6, 0.6322843314235389]]\n\n1:\t--(3, 39)--None--[[None, 2, 0.08071159565787611], [None, 3, 0.9885635368900767], [None, 4, 0.9391247096430893], [None, 5, 0.8977356420364642], [None, 6, 0.5814252751177815], [2, 6, 0.12989495220632363], [3, 4, 1.1492567979416326], [3, 6, 1.03015287997875], [5, 4, 1.4940524907954666], [5, 6, 1.3509391794527128]]\n\n2:\t--(1, 38)--(3, 39)--[[None, 5, 0.8261099230833898], [None, 6, 0.04918335654844752], [5, 4, 1.4224267718423924], [5, 6, 1.2793134604996386]]\n\n3:\t--(2, 64)--(6, 48)--[[None, 2, 0.9204278538298392], [None, 3, 0.7633025548555608], [None, 4, 0.1606932610515559], [None, 5, 0.2885407887277648], [None, 6, 0.04158934308867346], [2, 6, 0.9696112103782867], [5, 4, 0.8848576374867673], [5, 6, 0.7417443261440134]]\n\n4:\t--(5, 59)--(2, 64)--[[None, 3, 0.6742100051986097], [None, 4, 0.7616212752790169], [None, 5, 0.2263951840063534], [None, 6, 0.5998336886391248], [3, 6, 0.7157993482872832], [5, 6, 0.679598721422602]]\n\n5:\t--(0, 79)--None--[[None, 4, 0.5963168487590025], [None, 5, 0.2156162940364963], [None, 6, 0.45320353741624864]]\n\n6:\t--(6, 48)--(1, 38)--[[None, 2, 0.5958135041753848], [None, 3, 0.6057933914867861], [None, 4, 0.9783867310345157], [None, 5, 0.5601594021236834], [None, 6, 0.3535187689295153], [3, 4, 0.766486652538342], [5, 4, 1.1564762508826858]]\n\n\n"
     ]
    }
   ],
   "source": [
    "# print graph\n",
    "print(graph)"
   ]
  },
  {
   "source": [
    "Following below, there is another test of the *Bidirectional Dijkstra Algorithm*, this time using importance values related to the number of links (incoming and outgoing edges) that a vartice has."
   ],
   "cell_type": "markdown",
   "metadata": {}
  },
  {
   "cell_type": "code",
   "execution_count": 4,
   "metadata": {},
   "outputs": [
    {
     "output_type": "stream",
     "name": "stdout",
     "text": [
      "NODES:\t--(IMPORTANCE, VALUE)--PREDECESSOR--ADJACENCY LIST\n\n0:\t--(None, 83)--None--[[None, 2, 0.8294872760686411], [None, 3, 0.14493383056105036], [None, 4, 0.07864275462345438], [None, 5, 0.5919380520215194], [None, 6, 0.12302211058748802]]\n\n1:\t--(None, 71)--None--[[None, 3, 0.008543755423475852], [None, 4, 0.49776503585341225], [None, 5, 0.9140834904939967], [None, 6, 0.5805135781905404]]\n\n2:\t--(None, 32)--None--[[None, 5, 0.7785764190957972], [None, 6, 0.5151577954846599]]\n\n3:\t--(None, 36)--None--[[None, 5, 0.07302326400441606], [None, 6, 0.9394241687997408]]\n\n4:\t--(None, 96)--None--[[None, 5, 0.03326270694115929], [None, 6, 0.22414314142423108]]\n\n5:\t--(None, 13)--None--[[None, 2, 0.335065912126011], [None, 3, 0.716408754146124], [None, 4, 0.25069565875375177], [None, 5, 0.48599332049444155], [None, 6, 0.2104547880069334]]\n\n6:\t--(None, 89)--None--[[None, 5, 0.6983904539363621], [None, 6, 0.460117254796621]]\n\n\n"
     ]
    }
   ],
   "source": [
    "# create graph\n",
    "g = {}\n",
    "for i in range(7):\n",
    "    # assign to nodes their values\n",
    "    g[i] = Node(value=randint(0,100))\n",
    "\n",
    "# create adjacency lists\n",
    "d = {}\n",
    "for i in range(7):\n",
    "    d[i] = []\n",
    "    # assign adjacent nodes and weights of corresponding edges\n",
    "    for j in range(randint(2,5),7):\n",
    "        d[i].append([j, random()])\n",
    "\n",
    "# create dictionary\n",
    "graph = WeightedGraph(g, d)\n",
    "\n",
    "# printing graph\n",
    "print(graph)"
   ]
  },
  {
   "cell_type": "code",
   "execution_count": 5,
   "metadata": {},
   "outputs": [
    {
     "output_type": "stream",
     "name": "stdout",
     "text": [
      "NODES:\t--(IMPORTANCE, VALUE)--PREDECESSOR--ADJACENCY LIST\n\n0:\t--(5, 83)--None--[[None, 2, 0.8294872760686411], [None, 3, 0.14493383056105036], [None, 4, 0.07864275462345438], [None, 5, 0.5919380520215194], [None, 6, 0.12302211058748802]]\n\n1:\t--(4, 71)--None--[[None, 3, 0.008543755423475852], [None, 4, 0.49776503585341225], [None, 5, 0.9140834904939967], [None, 6, 0.5805135781905404]]\n\n2:\t--(4, 32)--None--[[None, 5, 0.7785764190957972], [None, 6, 0.5151577954846599]]\n\n3:\t--(5, 36)--None--[[None, 5, 0.07302326400441606], [None, 6, 0.9394241687997408]]\n\n4:\t--(5, 96)--None--[[None, 5, 0.03326270694115929], [None, 6, 0.22414314142423108]]\n\n5:\t--(12, 13)--None--[[None, 2, 0.335065912126011], [None, 3, 0.716408754146124], [None, 4, 0.25069565875375177], [None, 5, 0.48599332049444155], [None, 6, 0.2104547880069334]]\n\n6:\t--(9, 89)--None--[[None, 5, 0.6983904539363621], [None, 6, 0.460117254796621]]\n\n\n"
     ]
    }
   ],
   "source": [
    "# compute ancestors\n",
    "graph.Ancestors()\n",
    "\n",
    "# assign importances\n",
    "for key in graph.Keys:\n",
    "\n",
    "    # assign importance by counting number of 'links' of the vertice\n",
    "    importance = len(graph.Dictionary[key].ancestors) + len(graph.Dictionary[key].adj_list)\n",
    "\n",
    "    graph.Dictionary[key].importance = importance\n",
    "\n",
    "# print graph\n",
    "print(graph)"
   ]
  },
  {
   "cell_type": "code",
   "execution_count": 6,
   "metadata": {},
   "outputs": [
    {
     "output_type": "stream",
     "name": "stdout",
     "text": [
      "([(4, 71), (5, 36), (12, 13), (5, 96)], 0.3322626781816437)\n"
     ]
    }
   ],
   "source": [
    "# apply dijkstra algorithm to graph\n",
    "result = bi_dijkstra(graph, 1, 4)\n",
    "print(result)"
   ]
  },
  {
   "cell_type": "code",
   "execution_count": 7,
   "metadata": {},
   "outputs": [],
   "source": [
    "# update predecessors\n",
    "update_predecessors(graph, result[0])"
   ]
  },
  {
   "cell_type": "code",
   "execution_count": 8,
   "metadata": {},
   "outputs": [
    {
     "output_type": "stream",
     "name": "stdout",
     "text": [
      "NODES:\t--(IMPORTANCE, VALUE)--PREDECESSOR--ADJACENCY LIST\n\n0:\t--(5, 83)--None--[[None, 2, 0.8294872760686411], [None, 3, 0.14493383056105036], [None, 4, 0.07864275462345438], [None, 5, 0.5919380520215194], [None, 6, 0.12302211058748802], [2, 5, 1.6080636951644385], [2, 6, 1.344645071553301]]\n\n1:\t--(4, 71)--None--[[None, 3, 0.008543755423475852], [None, 4, 0.49776503585341225], [None, 5, 0.9140834904939967], [None, 6, 0.5805135781905404]]\n\n2:\t--(4, 32)--None--[[None, 5, 0.7785764190957972], [None, 6, 0.5151577954846599]]\n\n3:\t--(5, 36)--(4, 71)--[[None, 5, 0.07302326400441606], [None, 6, 0.9394241687997408]]\n\n4:\t--(5, 96)--(12, 13)--[[None, 5, 0.03326270694115929], [None, 6, 0.22414314142423108]]\n\n5:\t--(12, 13)--(5, 36)--[[None, 2, 0.335065912126011], [None, 3, 0.716408754146124], [None, 4, 0.25069565875375177], [None, 5, 0.48599332049444155], [None, 6, 0.2104547880069334], [2, 6, 0.8502237076106709], [3, 6, 1.6558329229458648], [4, 6, 0.47483880017798286]]\n\n6:\t--(9, 89)--None--[[None, 5, 0.6983904539363621], [None, 6, 0.460117254796621]]\n\n\n"
     ]
    }
   ],
   "source": [
    "# print graph\n",
    "print(graph)"
   ]
  },
  {
   "cell_type": "code",
   "execution_count": null,
   "metadata": {},
   "outputs": [],
   "source": []
  }
 ]
}