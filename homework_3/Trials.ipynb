{
 "metadata": {
  "language_info": {
   "codemirror_mode": {
    "name": "ipython",
    "version": 3
   },
   "file_extension": ".py",
   "mimetype": "text/x-python",
   "name": "python",
   "nbconvert_exporter": "python",
   "pygments_lexer": "ipython3",
   "version": "3.8.5"
  },
  "orig_nbformat": 2,
  "kernelspec": {
   "name": "python3",
   "display_name": "Python 3",
   "language": "python"
  }
 },
 "nbformat": 4,
 "nbformat_minor": 2,
 "cells": [
  {
   "source": [
    "# Homework Batch 3: Routing Algorithms\n",
    "### Marco Sicklinger, May 2021"
   ],
   "cell_type": "markdown",
   "metadata": {}
  },
  {
   "source": [
    "## Modules"
   ],
   "cell_type": "markdown",
   "metadata": {}
  },
  {
   "cell_type": "code",
   "execution_count": 14,
   "metadata": {},
   "outputs": [],
   "source": [
    "from graph import *\n",
    "from heap import *\n",
    "from dijkstra import *\n",
    "from random import random, randint"
   ]
  },
  {
   "source": [
    "## Binheap version of Dijkstra Algorithm"
   ],
   "cell_type": "markdown",
   "metadata": {}
  },
  {
   "cell_type": "code",
   "execution_count": 2,
   "metadata": {},
   "outputs": [
    {
     "output_type": "stream",
     "name": "stdout",
     "text": [
      "NODES:\t--(IMPORTANCE, VALUE)--PREDECESSOR--ADJACENCY LIST\n\n0:\t--(4, 97)--None--[[None, 0, 0.6935651612173714], [None, 1, 0.36244413736635583], [None, 2, 0.1381047615003046], [None, 3, 0.034355638182352544], [None, 4, 0.1104720517177945]]\n\n1:\t--(3, 62)--None--[[None, 3, 0.7357650286232568], [None, 4, 0.842055695399565]]\n\n2:\t--(1, 97)--None--[[None, 4, 0.17816531923254997]]\n\n3:\t--(2, 45)--None--[[None, 1, 0.2029136590425874], [None, 2, 0.948309726828068], [None, 3, 0.8824682466032233], [None, 4, 0.7396407091680566]]\n\n4:\t--(0, 13)--None--[[None, 0, 0.06908642371996754], [None, 1, 0.02146783623384607], [None, 2, 0.21523810324619552], [None, 3, 0.6455311005382163], [None, 4, 0.8239541229208791]]\n\n\n"
     ]
    }
   ],
   "source": [
    "# create graph\n",
    "g = {}\n",
    "# assign importances\n",
    "importance_array = list(np.random.permutation(5))\n",
    "for i in range(5):\n",
    "    # assign to nodes their values\n",
    "    g[i] = Node(value=randint(0,100), importance=importance_array[i])\n",
    "\n",
    "# create adjacency lists\n",
    "d = {}\n",
    "for i in range(5):\n",
    "    d[i] = []\n",
    "    # assign adjacent nodes and weights of corresponding edges\n",
    "    for j in range(randint(0,4),5):\n",
    "        d[i].append([j, random()])\n",
    "\n",
    "# create dictionary\n",
    "graph = WeightedGraph(g, d)\n",
    "\n",
    "# printing graph\n",
    "print(graph)"
   ]
  },
  {
   "cell_type": "code",
   "execution_count": 3,
   "metadata": {},
   "outputs": [
    {
     "output_type": "stream",
     "name": "stdout",
     "text": [
      "NODES:\t--(IMPORTANCE, VALUE)--PREDECESSOR--ADJACENCY LIST\n\n0:\t--(4, 97)--(0, 13)--[[None, 0, 0.6935651612173714], [None, 1, 0.36244413736635583], [None, 2, 0.1381047615003046], [None, 3, 0.034355638182352544], [None, 4, 0.1104720517177945]]\n\n1:\t--(3, 62)--(0, 13)--[[None, 3, 0.7357650286232568], [None, 4, 0.842055695399565]]\n\n2:\t--(1, 97)--None--[[None, 4, 0.17816531923254997]]\n\n3:\t--(2, 45)--(4, 97)--[[None, 1, 0.2029136590425874], [None, 2, 0.948309726828068], [None, 3, 0.8824682466032233], [None, 4, 0.7396407091680566]]\n\n4:\t--(0, 13)--(1, 97)--[[None, 0, 0.06908642371996754], [None, 1, 0.02146783623384607], [None, 2, 0.21523810324619552], [None, 3, 0.6455311005382163], [None, 4, 0.8239541229208791]]\n\n\n"
     ]
    }
   ],
   "source": [
    "# applying dijkstra algorithm to graph\n",
    "dijkstra(graph, graph.Keys[2])\n",
    "\n",
    "# printing result\n",
    "print(graph)"
   ]
  },
  {
   "source": [
    "## Shortcuts"
   ],
   "cell_type": "markdown",
   "metadata": {}
  },
  {
   "cell_type": "code",
   "execution_count": 4,
   "metadata": {},
   "outputs": [
    {
     "output_type": "stream",
     "name": "stdout",
     "text": [
      "key:  0  importance: 4\nshortcuts:  [[3, 1, 0.23726929722493995], [4, 1, 0.13193988795164058], [4, 2, 0.32571015496399003], [4, 3, 0.7560031522560108]] \n\nkey:  1  importance: 3\nshortcuts:  [[4, 0, 0.9111421191195326], [4, 2, 1.0572937986457607], [4, 3, 1.4875867959377813]] \n\nkey:  2  importance: 1\nshortcuts:  [[4, 0, 0.2472517429525175], [4, 1, 0.19963315546639604], [4, 3, 0.8236964197707662]] \n\nkey:  3  importance: 2\nshortcuts:  [[4, 0, 0.8087271328880241], [4, 1, 0.7611085454019026], [4, 2, 0.9548788124142521]] \n\nkey:  4  importance: 0\nshortcuts:  None \n\n"
     ]
    }
   ],
   "source": [
    "# build shortcuts in the graph\n",
    "build_shortcuts(graph)\n",
    "\n",
    "# printing shortcuts\n",
    "for key in graph.Keys:\n",
    "    print('key: ', key, ' importance:', graph.Dictionary[key].importance)\n",
    "    print('shortcuts: ', graph.Dictionary[key].shortcuts, '\\n')"
   ]
  },
  {
   "cell_type": "code",
   "execution_count": 5,
   "metadata": {},
   "outputs": [
    {
     "output_type": "stream",
     "name": "stdout",
     "text": [
      "NODES:\t--(IMPORTANCE, VALUE)--PREDECESSOR--ADJACENCY LIST\n\n0:\t--(4, 97)--(0, 13)--[[None, 0, 0.6935651612173714], [None, 1, 0.36244413736635583], [None, 2, 0.1381047615003046], [None, 3, 0.034355638182352544], [None, 4, 0.1104720517177945], [3, 1, 0.23726929722493995], [4, 1, 0.13193988795164058], [4, 2, 0.32571015496399003], [4, 3, 0.7560031522560108]]\n\n1:\t--(3, 62)--(0, 13)--[[None, 3, 0.7357650286232568], [None, 4, 0.842055695399565], [4, 0, 0.9111421191195326], [4, 2, 1.0572937986457607], [4, 3, 1.4875867959377813]]\n\n2:\t--(1, 97)--None--[[None, 4, 0.17816531923254997], [4, 0, 0.2472517429525175], [4, 1, 0.19963315546639604], [4, 3, 0.8236964197707662]]\n\n3:\t--(2, 45)--(4, 97)--[[None, 1, 0.2029136590425874], [None, 2, 0.948309726828068], [None, 3, 0.8824682466032233], [None, 4, 0.7396407091680566], [4, 0, 0.8087271328880241], [4, 1, 0.7611085454019026], [4, 2, 0.9548788124142521]]\n\n4:\t--(0, 13)--(1, 97)--[[None, 0, 0.06908642371996754], [None, 1, 0.02146783623384607], [None, 2, 0.21523810324619552], [None, 3, 0.6455311005382163], [None, 4, 0.8239541229208791]]\n\n\n"
     ]
    }
   ],
   "source": [
    "# update graph with the shortcuts\n",
    "update_graph(graph)\n",
    "\n",
    "# print updated graph\n",
    "print(graph)"
   ]
  },
  {
   "source": [
    "## Bidirectional version of Dijkstra Algorithm"
   ],
   "cell_type": "markdown",
   "metadata": {}
  },
  {
   "cell_type": "code",
   "execution_count": 8,
   "metadata": {},
   "outputs": [
    {
     "output_type": "stream",
     "name": "stdout",
     "text": [
      "NODES:\t--(IMPORTANCE, VALUE)--PREDECESSOR--ADJACENCY LIST\n\n0:\t--(2, 65)--None--[[None, 4, 0.23915843572632334], [None, 5, 0.4906596765014022], [None, 6, 0.7300000431979481]]\n\n1:\t--(5, 75)--None--[[None, 5, 0.2850035029110308], [None, 6, 0.19140379557787301]]\n\n2:\t--(1, 72)--None--[[None, 4, 0.22322642002608462], [None, 5, 0.1408630478046453], [None, 6, 0.900754612872581]]\n\n3:\t--(4, 26)--None--[[None, 5, 0.8431235603594452], [None, 6, 0.05419563785944681]]\n\n4:\t--(3, 34)--None--[[None, 5, 0.34558170262570753], [None, 6, 0.5708142862679837]]\n\n5:\t--(6, 11)--None--[[None, 4, 0.24144140311144902], [None, 5, 0.5531853689054259], [None, 6, 0.7343219181627951]]\n\n6:\t--(0, 17)--None--[[None, 3, 0.1459994663199844], [None, 4, 0.5141939335694974], [None, 5, 0.07449767224314752], [None, 6, 0.5674703353853121]]\n\n\n"
     ]
    }
   ],
   "source": [
    "# create graph\n",
    "g = {}\n",
    "# assign importances\n",
    "importance_array = list(np.random.permutation(7))\n",
    "for i in range(7):\n",
    "    # assign to nodes their values\n",
    "    g[i] = Node(value=randint(0,100), importance=importance_array[i])\n",
    "\n",
    "# create adjacency lists\n",
    "d = {}\n",
    "for i in range(7):\n",
    "    d[i] = []\n",
    "    # assign adjacent nodes and weights of corresponding edges\n",
    "    for j in range(randint(2,5),7):\n",
    "        d[i].append([j, random()])\n",
    "\n",
    "# create dictionary\n",
    "graph = WeightedGraph(g, d)\n",
    "\n",
    "# printing graph\n",
    "print(graph)"
   ]
  },
  {
   "cell_type": "code",
   "execution_count": 15,
   "metadata": {},
   "outputs": [
    {
     "output_type": "stream",
     "name": "stdout",
     "text": [
      "([(5, 75), (0, 17), (6, 11), (3, 34)], 0.5073428709324695)\n"
     ]
    }
   ],
   "source": [
    "# apply dijkstra algorithm to graph\n",
    "result = bi_dijkstra(graph, 1, 4)\n",
    "print(result)"
   ]
  },
  {
   "cell_type": "code",
   "execution_count": 16,
   "metadata": {},
   "outputs": [],
   "source": [
    "# update predecessors\n",
    "update_predecessors(graph, result[0])"
   ]
  },
  {
   "cell_type": "code",
   "execution_count": 17,
   "metadata": {},
   "outputs": [
    {
     "output_type": "stream",
     "name": "stdout",
     "text": [
      "NODES:\t--(IMPORTANCE, VALUE)--PREDECESSOR--ADJACENCY LIST\n\n0:\t--(2, 65)--None--[[None, 4, 0.23915843572632334], [None, 5, 0.4906596765014022], [None, 6, 0.7300000431979481], [6, 3, 0.8759995095179325], [6, 4, 1.2441939767674455], [6, 5, 0.8044977154410956]]\n\n1:\t--(5, 75)--None--[[None, 5, 0.2850035029110308], [None, 6, 0.19140379557787301], [6, 3, 0.3374032618978574], [6, 4, 0.7055977291473704], [6, 5, 0.26590146782102053]]\n\n2:\t--(1, 72)--None--[[None, 4, 0.22322642002608462], [None, 5, 0.1408630478046453], [None, 6, 0.900754612872581], [6, 3, 1.0467540791925654], [6, 4, 1.4149485464420783], [6, 5, 0.9752522851157285]]\n\n3:\t--(4, 26)--None--[[None, 5, 0.8431235603594452], [None, 6, 0.05419563785944681], [6, 4, 0.5683895714289442], [6, 5, 0.12869331010259433]]\n\n4:\t--(3, 34)--(6, 11)--[[None, 5, 0.34558170262570753], [None, 6, 0.5708142862679837], [6, 3, 0.7168137525879681], [6, 5, 0.6453119585111312]]\n\n5:\t--(6, 11)--(0, 17)--[[None, 4, 0.24144140311144902], [None, 5, 0.5531853689054259], [None, 6, 0.7343219181627951], [6, 3, 0.8803213844827795], [6, 4, 1.2485158517322925]]\n\n6:\t--(0, 17)--(5, 75)--[[None, 3, 0.1459994663199844], [None, 4, 0.5141939335694974], [None, 5, 0.07449767224314752], [None, 6, 0.5674703353853121]]\n\n\n"
     ]
    }
   ],
   "source": [
    "# print graph\n",
    "print(graph)"
   ]
  },
  {
   "cell_type": "code",
   "execution_count": null,
   "metadata": {},
   "outputs": [],
   "source": []
  }
 ]
}