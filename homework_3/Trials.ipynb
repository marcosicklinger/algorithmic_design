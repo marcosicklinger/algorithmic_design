{
 "metadata": {
  "language_info": {
   "codemirror_mode": {
    "name": "ipython",
    "version": 3
   },
   "file_extension": ".py",
   "mimetype": "text/x-python",
   "name": "python",
   "nbconvert_exporter": "python",
   "pygments_lexer": "ipython3",
   "version": "3.8.5"
  },
  "orig_nbformat": 2,
  "kernelspec": {
   "name": "python3",
   "display_name": "Python 3",
   "language": "python"
  }
 },
 "nbformat": 4,
 "nbformat_minor": 2,
 "cells": [
  {
   "source": [
    "# Homework Batch 3: Routing Algorithms\n",
    "### Marco Sicklinger, May 2021"
   ],
   "cell_type": "markdown",
   "metadata": {}
  },
  {
   "source": [
    "## Modules"
   ],
   "cell_type": "markdown",
   "metadata": {}
  },
  {
   "cell_type": "code",
   "execution_count": 1,
   "metadata": {},
   "outputs": [],
   "source": [
    "from graph import *\n",
    "from heap import *\n",
    "from dijkstra import *\n",
    "from random import random, randint"
   ]
  },
  {
   "source": [
    "## Binheap version of Dijkstra Algorithm"
   ],
   "cell_type": "markdown",
   "metadata": {}
  },
  {
   "cell_type": "code",
   "execution_count": 2,
   "metadata": {},
   "outputs": [
    {
     "output_type": "stream",
     "name": "stdout",
     "text": [
      "NODES:\t--(IMPORTANCE, VALUE)--PREDECESSOR--ADJACENCY LIST\n\n0:\t--(2, 15)--None--[[None, 2, 0.9292414475330958], [None, 3, 0.6131447275682492], [None, 4, 0.32665545324322565]]\n\n1:\t--(3, 48)--None--[[None, 2, 0.9653982777488798], [None, 3, 0.28936968276270314], [None, 4, 0.3348682992132104]]\n\n2:\t--(4, 39)--None--[[None, 3, 0.6660010855863859], [None, 4, 0.8019218879613312]]\n\n3:\t--(0, 33)--None--[[None, 3, 0.37092558328465475], [None, 4, 0.6674823193725065]]\n\n4:\t--(1, 28)--None--[[None, 3, 0.6555971411019629], [None, 4, 0.22834491464016227]]\n\n\n"
     ]
    }
   ],
   "source": [
    "# create graph\n",
    "g = {}\n",
    "# assign importances\n",
    "importance_array = list(np.random.permutation(5))\n",
    "for i in range(5):\n",
    "    # assign to nodes their values\n",
    "    g[i] = Node(value=randint(0,100), importance=importance_array[i])\n",
    "\n",
    "# create adjacency lists\n",
    "d = {}\n",
    "for i in range(5):\n",
    "    d[i] = []\n",
    "    # assign adjacent nodes and weights of corresponding edges\n",
    "    for j in range(randint(0,4),5):\n",
    "        d[i].append([j, random()])\n",
    "\n",
    "# create dictionary\n",
    "graph = WeightedGraph(g, d)\n",
    "\n",
    "# printing graph\n",
    "print(graph)"
   ]
  },
  {
   "cell_type": "code",
   "execution_count": 3,
   "metadata": {},
   "outputs": [
    {
     "output_type": "stream",
     "name": "stdout",
     "text": [
      "NODES:\t--(IMPORTANCE, VALUE)--PREDECESSOR--ADJACENCY LIST\n\n0:\t--(2, 15)--None--[[None, 2, 0.9292414475330958], [None, 3, 0.6131447275682492], [None, 4, 0.32665545324322565]]\n\n1:\t--(3, 48)--None--[[None, 2, 0.9653982777488798], [None, 3, 0.28936968276270314], [None, 4, 0.3348682992132104]]\n\n2:\t--(4, 39)--None--[[None, 3, 0.6660010855863859], [None, 4, 0.8019218879613312]]\n\n3:\t--(0, 33)--(4, 39)--[[None, 3, 0.37092558328465475], [None, 4, 0.6674823193725065]]\n\n4:\t--(1, 28)--(4, 39)--[[None, 3, 0.6555971411019629], [None, 4, 0.22834491464016227]]\n\n\n"
     ]
    }
   ],
   "source": [
    "# applying dijkstra algorithm to graph\n",
    "dijkstra(graph, graph.Keys[2])\n",
    "\n",
    "# printing result\n",
    "print(graph)"
   ]
  },
  {
   "source": [
    "## Shortcuts"
   ],
   "cell_type": "markdown",
   "metadata": {}
  },
  {
   "cell_type": "code",
   "execution_count": 4,
   "metadata": {},
   "outputs": [
    {
     "output_type": "stream",
     "name": "stdout",
     "text": [
      "key:  0  importance: 2\nshortcuts:  [[3, 4, 1.2806270469407557]] \n\nkey:  1  importance: 3\nshortcuts:  [[3, 4, 0.9568520021352096]] \n\nkey:  2  importance: 4\nshortcuts:  [[3, 4, 1.3334834049588924]] \n\nkey:  3  importance: 0\nshortcuts:  None \n\nkey:  4  importance: 1\nshortcuts:  None \n\n"
     ]
    }
   ],
   "source": [
    "# build shortcuts in the graph\n",
    "build_shortcuts(graph)\n",
    "\n",
    "# printing shortcuts\n",
    "for key in graph.Keys:\n",
    "    print('key: ', key, ' importance:', graph.Dictionary[key].importance)\n",
    "    print('shortcuts: ', graph.Dictionary[key].shortcuts, '\\n')"
   ]
  },
  {
   "cell_type": "code",
   "execution_count": 5,
   "metadata": {},
   "outputs": [
    {
     "output_type": "stream",
     "name": "stdout",
     "text": [
      "NODES:\t--(IMPORTANCE, VALUE)--PREDECESSOR--ADJACENCY LIST\n\n0:\t--(2, 15)--None--[[None, 2, 0.9292414475330958], [None, 3, 0.6131447275682492], [None, 4, 0.32665545324322565], [3, 4, 1.2806270469407557]]\n\n1:\t--(3, 48)--None--[[None, 2, 0.9653982777488798], [None, 3, 0.28936968276270314], [None, 4, 0.3348682992132104], [3, 4, 0.9568520021352096]]\n\n2:\t--(4, 39)--None--[[None, 3, 0.6660010855863859], [None, 4, 0.8019218879613312], [3, 4, 1.3334834049588924]]\n\n3:\t--(0, 33)--(4, 39)--[[None, 3, 0.37092558328465475], [None, 4, 0.6674823193725065]]\n\n4:\t--(1, 28)--(4, 39)--[[None, 3, 0.6555971411019629], [None, 4, 0.22834491464016227]]\n\n\n"
     ]
    }
   ],
   "source": [
    "# update graph with the shortcuts\n",
    "update_graph(graph)\n",
    "\n",
    "# print updated graph\n",
    "print(graph)"
   ]
  },
  {
   "source": [
    "## Bidirectional version of Dijkstra Algorithm"
   ],
   "cell_type": "markdown",
   "metadata": {}
  },
  {
   "cell_type": "code",
   "execution_count": 9,
   "metadata": {},
   "outputs": [
    {
     "output_type": "stream",
     "name": "stdout",
     "text": [
      "NODES:\t--(IMPORTANCE, VALUE)--PREDECESSOR--ADJACENCY LIST\n\n0:\t--(6, 60)--None--[[None, 2, 0.41702793726211573], [None, 3, 0.31865456581569607], [None, 4, 0.5107130963996518], [None, 5, 0.21592053777691944], [None, 6, 0.7593619509101633]]\n\n1:\t--(1, 1)--None--[[None, 5, 0.4714074245988852], [None, 6, 0.09255009910153988]]\n\n2:\t--(3, 55)--None--[[None, 4, 0.70225956784302], [None, 5, 0.5104290648214975], [None, 6, 0.3495934325609994]]\n\n3:\t--(2, 20)--None--[[None, 4, 0.9703071253962807], [None, 5, 0.9109252301788546], [None, 6, 0.5448215444777802]]\n\n4:\t--(0, 83)--None--[[None, 4, 0.4467487895538048], [None, 5, 0.40932009360447275], [None, 6, 0.10067298851237905]]\n\n5:\t--(5, 22)--None--[[None, 3, 0.1814858677669361], [None, 4, 0.0036286105859406614], [None, 5, 0.736265596155821], [None, 6, 0.14918066165310917]]\n\n6:\t--(4, 64)--None--[[None, 5, 0.040541844798898774], [None, 6, 0.6735304206582654]]\n\n\n"
     ]
    }
   ],
   "source": [
    "# create graph\n",
    "g = {}\n",
    "# assign importances\n",
    "importance_array = list(np.random.permutation(7))\n",
    "for i in range(7):\n",
    "    # assign to nodes their values\n",
    "    g[i] = Node(value=randint(0,100), importance=importance_array[i])\n",
    "\n",
    "# create adjacency lists\n",
    "d = {}\n",
    "for i in range(7):\n",
    "    d[i] = []\n",
    "    # assign adjacent nodes and weights of corresponding edges\n",
    "    for j in range(randint(2,5),7):\n",
    "        d[i].append([j, random()])\n",
    "\n",
    "# create dictionary\n",
    "graph = WeightedGraph(g, d)\n",
    "\n",
    "# printing graph\n",
    "print(graph)"
   ]
  },
  {
   "cell_type": "code",
   "execution_count": 10,
   "metadata": {},
   "outputs": [
    {
     "output_type": "execute_result",
     "data": {
      "text/plain": [
       "0.13672055448637932"
      ]
     },
     "metadata": {},
     "execution_count": 10
    }
   ],
   "source": [
    "# applying dijkstra algorithm to graph\n",
    "bi_dijkstra(graph, 1, 4)"
   ]
  },
  {
   "cell_type": "code",
   "execution_count": 11,
   "metadata": {},
   "outputs": [
    {
     "output_type": "stream",
     "name": "stdout",
     "text": [
      "NODES:\t--(IMPORTANCE, VALUE)--PREDECESSOR--ADJACENCY LIST\n\n0:\t--(6, 60)--None--[[None, 2, 0.41702793726211573], [None, 3, 0.31865456581569607], [None, 4, 0.5107130963996518], [None, 5, 0.21592053777691944], [None, 6, 0.7593619509101633], [2, 5, 0.9274570020836133], [2, 6, 0.7666213698231151], [3, 5, 1.2295797959945507], [3, 6, 0.8634761102934763], [4, 5, 0.9200331900041245], [4, 6, 0.6113860849120308], [6, 5, 0.7999037957090621]]\n\n1:\t--(1, 1)--None--[[None, 5, 0.4714074245988852], [None, 6, 0.09255009910153988]]\n\n2:\t--(3, 55)--None--[[None, 4, 0.70225956784302], [None, 5, 0.5104290648214975], [None, 6, 0.3495934325609994], [4, 5, 1.1115796614474927], [4, 6, 0.8029325563553991]]\n\n3:\t--(2, 20)--None--[[None, 4, 0.9703071253962807], [None, 5, 0.9109252301788546], [None, 6, 0.5448215444777802], [4, 5, 1.3796272190007535], [4, 6, 1.0709801139086599]]\n\n4:\t--(0, 83)--None--[[None, 4, 0.4467487895538048], [None, 5, 0.40932009360447275], [None, 6, 0.10067298851237905]]\n\n5:\t--(5, 22)--(4, 64)--[[None, 3, 0.1814858677669361], [None, 4, 0.0036286105859406614], [None, 5, 0.736265596155821], [None, 6, 0.14918066165310917], [3, 6, 0.7263074122447163], [4, 6, 0.10430159909831971]]\n\n6:\t--(4, 64)--(1, 1)--[[None, 5, 0.040541844798898774], [None, 6, 0.6735304206582654]]\n\n\n"
     ]
    }
   ],
   "source": [
    "print(graph)"
   ]
  },
  {
   "cell_type": "code",
   "execution_count": null,
   "metadata": {},
   "outputs": [],
   "source": []
  }
 ]
}